{
 "cells": [
  {
   "cell_type": "code",
   "execution_count": null,
   "metadata": {},
   "outputs": [],
   "source": [
    "#Instalação\n",
    "pip install yfinance --user\n",
    "# Install the main crewAI package\n",
    "pip install crewai --user\n",
    "\n",
    "pip install \"numpy<2\"\n",
    "\n",
    "# Install the main crewAI package and the tools package\n",
    "# that includes a series of helpful tools for your agents\n",
    "pip install 'crewai[tools]' --user"
   ]
  },
  {
   "cell_type": "code",
   "execution_count": 18,
   "metadata": {},
   "outputs": [],
   "source": [
    "import json\n",
    "import os\n",
    "\n",
    "import numpy as np\n",
    "np.float_ = np.float64\n",
    "\n",
    "from datetime import datetime\n",
    "\n",
    "import yfinance as yf\n",
    "\n",
    "from crewai import Agent, Task\n",
    "\n",
    "from langchain.tools import Tool"
   ]
  },
  {
   "cell_type": "code",
   "execution_count": 19,
   "metadata": {},
   "outputs": [],
   "source": [
    "def fetch_stock_price(ticket):\n",
    "    stock = yf.download(\"AAPL\", start=\"2023-08-08\", end=\"2024-08-08\")\n",
    "    return stock\n",
    "\n",
    "yahoo_finance_tool = Tool(\n",
    "    name = \"Yahoo Finance Tool\",\n",
    "    description = \"Fetches stock prices for {ticket} from the last year about a specific stock from Yahoo Finance API\",\n",
    "    func= lambda ticket: fetch_stock_price(ticket)\n",
    ")"
   ]
  },
  {
   "cell_type": "code",
   "execution_count": 20,
   "metadata": {},
   "outputs": [
    {
     "name": "stderr",
     "output_type": "stream",
     "text": [
      "[*********************100%%**********************]  1 of 1 completed\n"
     ]
    }
   ],
   "source": [
    "response = yahoo_finance_tool(\"AAPL\")"
   ]
  },
  {
   "cell_type": "code",
   "execution_count": 21,
   "metadata": {},
   "outputs": [
    {
     "name": "stdout",
     "output_type": "stream",
     "text": [
      "                  Open        High         Low       Close   Adj Close  \\\n",
      "Date                                                                     \n",
      "2023-08-08  179.690002  180.270004  177.580002  179.800003  178.643387   \n",
      "2023-08-09  180.869995  180.929993  177.009995  178.190002  177.043762   \n",
      "2023-08-10  179.479996  180.750000  177.600006  177.970001  176.825150   \n",
      "2023-08-11  177.320007  178.619995  176.550003  177.789993  176.884857   \n",
      "2023-08-14  177.970001  179.690002  177.309998  179.460007  178.546371   \n",
      "...                ...         ...         ...         ...         ...   \n",
      "2024-08-01  224.369995  224.479996  217.020004  218.360001  218.107544   \n",
      "2024-08-02  219.149994  225.600006  217.710007  219.860001  219.605804   \n",
      "2024-08-05  199.089996  213.500000  196.000000  209.270004  209.028061   \n",
      "2024-08-06  205.300003  209.990005  201.070007  207.229996  206.990402   \n",
      "2024-08-07  206.899994  213.639999  206.389999  209.820007  209.577423   \n",
      "\n",
      "               Volume  \n",
      "Date                   \n",
      "2023-08-08   67823000  \n",
      "2023-08-09   60378500  \n",
      "2023-08-10   54686900  \n",
      "2023-08-11   51988100  \n",
      "2023-08-14   43675600  \n",
      "...               ...  \n",
      "2024-08-01   62501000  \n",
      "2024-08-02  105568600  \n",
      "2024-08-05  119548600  \n",
      "2024-08-06   69660500  \n",
      "2024-08-07   63516400  \n",
      "\n",
      "[252 rows x 6 columns]\n"
     ]
    }
   ],
   "source": [
    "print(response)"
   ]
  }
 ],
 "metadata": {
  "kernelspec": {
   "display_name": "Python 3",
   "language": "python",
   "name": "python3"
  },
  "language_info": {
   "codemirror_mode": {
    "name": "ipython",
    "version": 3
   },
   "file_extension": ".py",
   "mimetype": "text/x-python",
   "name": "python",
   "nbconvert_exporter": "python",
   "pygments_lexer": "ipython3",
   "version": "3.12.2"
  }
 },
 "nbformat": 4,
 "nbformat_minor": 2
}
