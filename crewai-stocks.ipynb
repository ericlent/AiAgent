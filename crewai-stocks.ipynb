{
 "cells": [
  {
   "cell_type": "code",
   "execution_count": null,
   "metadata": {},
   "outputs": [],
   "source": [
    "#Instala python pelo Terminal antes de rodar essa célula\n",
    "#python.exe -m pip install --upgrade pip\n",
    "\n",
    "#Instalação pelo\n",
    "!pip install yfinance\n",
    "# Install the main crewAI package\n",
    "!pip install crewai\n",
    "\n",
    "!pip install \"numpy<2\"\n",
    "\n",
    "# Install the main crewAI package and the tools package\n",
    "# that includes a series of helpful tools for your agents\n",
    "!pip install 'crewai[tools]'\n",
    "\n",
    "!pip install langchain --user\n",
    "!pip install langchain-openai\n",
    "!pip install langchain-community\n",
    "!pip install -U duckduckgo-search"
   ]
  },
  {
   "cell_type": "code",
   "execution_count": null,
   "metadata": {},
   "outputs": [],
   "source": [
    "import json\n",
    "import os\n",
    "# Importação para não dar erro com o numpy\n",
    "import numpy as np\n",
    "np.float_ = np.float64\n",
    "\n",
    "from datetime import datetime\n",
    "\n",
    "import yfinance as yf\n",
    "\n",
    "from crewai import Agent, Task, Crew, Process\n",
    "\n",
    "from langchain.tools import Tool\n",
    "from langchain_openai import ChatOpenAI\n",
    "from langchain_community.tools import DuckDuckGoSearchResults"
   ]
  },
  {
   "cell_type": "code",
   "execution_count": null,
   "metadata": {},
   "outputs": [],
   "source": [
    "#CRIANDO YAHOO FINANCE TOOL\n",
    "def fetch_stock_price(ticket):\n",
    "    stock = yf.download(\"AAPL\", start=\"2023-08-19\", end=\"2024-08-19\")\n",
    "    return stock\n",
    "\n",
    "yahoo_finance_tool = Tool(\n",
    "    name = \"Yahoo Finance Tool\",\n",
    "    description = \"Fetches stock prices for {ticket} from the last year about a specific stock from Yahoo Finance API\",\n",
    "    func= lambda ticket: fetch_stock_price(ticket)\n",
    ")"
   ]
  },
  {
   "cell_type": "code",
   "execution_count": null,
   "metadata": {},
   "outputs": [],
   "source": [
    "response = yahoo_finance_tool(\"AAPL\")"
   ]
  },
  {
   "cell_type": "code",
   "execution_count": null,
   "metadata": {},
   "outputs": [],
   "source": [
    "#IMPORTANTO OPENAI LLM - GPT\n",
    "os.environ[\"OPENAI_API_KEY\"] = \"sk-pro-dEzUsDoGDrmW5mT92vbny4HMjnuvMD-l0RFqkAxDzeuUH-uZFUj_9EMSfJAT3BlbkFJNrHqbjlDPV9kPmAnG_c9PxrKdIL02DG1u5yF3XkkL0VdqmSNO_VywtmvcA\"\n",
    "llm = ChatOpenAI(model=\"gpt-3.5-turbo\")"
   ]
  },
  {
   "cell_type": "code",
   "execution_count": null,
   "metadata": {},
   "outputs": [],
   "source": [
    "stockPriceAnalyst = Agent(\n",
    "    role=\"Senior stock price Analyst\",\n",
    "    goal=\"Find the {ticket} stock price and analyses trends\",\n",
    "    backstory=\"You're a highly experienced in analysing the price of a specific stock and make predictions about its future price.\",\n",
    "    verbose=True,\n",
    "    llm= llm,\n",
    "    max_iter= 5,\n",
    "    memory=True,\n",
    "    allow_delegation=False,\n",
    "    tools=[yahoo_finance_tool]\n",
    ")"
   ]
  },
  {
   "cell_type": "code",
   "execution_count": null,
   "metadata": {},
   "outputs": [],
   "source": [
    "getStockPrice = Task(\n",
    "    description=\"Analyze the stock {ticket} price history and create a tren analyses of up, down or sideways\",\n",
    "    expected_output=\"\"\"\"Specify the current trend stock price - up, down or sideways.\n",
    "    eg. stock='APPL, price UP'\n",
    "\"\"\",\n",
    ")"
   ]
  },
  {
   "cell_type": "code",
   "execution_count": null,
   "metadata": {},
   "outputs": [],
   "source": [
    "#IMPORTANDO A TOOL DE SEARCH\n",
    "search_tool = DuckDuckGoSearchResults(backend='news', num_results=10)"
   ]
  },
  {
   "cell_type": "code",
   "execution_count": null,
   "metadata": {},
   "outputs": [],
   "source": [
    "newsAnalyst = Agent(\n",
    "    role=\"Stock New Analyst\",\n",
    "    goal=\"\"\"Create a short summary of the market news related to the stock {ticket} company. Specify the current trend - up, down or sideways with the news context.\n",
    "    For each request stock asset, specify a number between 0 and 100, where 0 is extreme fear and 100 is extreme greed\"\"\",\n",
    "    backstory=\"\"\"You're a highly experienced in analysing the market trends and news and have tracked assets for more than 10 years.\n",
    "    \n",
    "    You're also master level analysts in the tradicional markets and have deep understaning of human psychology.\n",
    "\n",
    "    You understand news, theirs titles and information, but you look at those with a health dose os skepticism.\n",
    "    You consider also the source of the news articles.\n",
    "    \"\"\",\n",
    "    verbose=True,\n",
    "    llm= llm,\n",
    "    max_iter= 5,\n",
    "    memory=True,\n",
    "    allow_delegation=False,\n",
    "    tools=[yahoo_finance_tool]\n",
    ")"
   ]
  },
  {
   "cell_type": "code",
   "execution_count": null,
   "metadata": {},
   "outputs": [],
   "source": [
    "get_news = Task(\n",
    "    description=\"\"\"Take the stock and always include BTC to it (if not request).\n",
    "    Use the search tool to search on individually.\n",
    "\n",
    "    The current date is {datetime.now()}.\n",
    "\n",
    "    Compose the results into a helpful report\n",
    "    \"\"\",\n",
    "    expected_output=\"\"\"\"A summary of the overall market and one sentence summary for each request asset.\n",
    "    Include a fear/greed score for each asset based on the news. Use formar:\n",
    "    <STOCK ASSET>\n",
    "    <SUMMARY BASED ON NEWS>\n",
    "    <TREND PREDICTION>\n",
    "    <FEAR/GREED SCORE>\n",
    "\"\"\",\n",
    "    agent= newsAnalyst\n",
    ")"
   ]
  },
  {
   "cell_type": "code",
   "execution_count": null,
   "metadata": {},
   "outputs": [],
   "source": [
    "stockAnalystWrite = Agent(\n",
    "    role=\"Senior Stock Analyst Writer\",\n",
    "    goal=\"\"\"Aanlyze the trends price and news and write an insightfull compeling and informative 3 paragraph long newsletter based on the stock report and price trend.\"\"\",\n",
    "    backstory=\"\"\"You're widely accepted as the best stock analust in the market. You understand complet concepts and create compelling stories and narratives that resonate with wider audiences.\n",
    "    You understand macro factors and combine multiple theories - eg. cycle theory and fundamental analyses.\n",
    "    You're able to hold multuple opinions when analyzing anything\"\"\",\n",
    "    verbose=True,\n",
    "    llm= llm,\n",
    "    max_iter= 5,\n",
    "    memory=True,\n",
    "    allow_delegation=True\n",
    ")"
   ]
  },
  {
   "cell_type": "code",
   "execution_count": null,
   "metadata": {},
   "outputs": [],
   "source": [
    "writeAnalyses = Task(\n",
    "    description=\"\"\"Use the stock price trend and the stock news report to create an analyses and write the newsletter about the {ticket} company\n",
    "    that is brief and highlights the most important points.\n",
    "    Focus on the stock price trend, news and fear;greed score. What are the near future considerations?\n",
    "    Include the previous analyses of stock trend and news summary.\n",
    "    \"\"\",\n",
    "    expected_output=\"\"\"an eloquent 3 paragraphs newsletter formated as markdown in an easy readable manner. It should contain:\n",
    "\n",
    "    - 3 bullets executive summary\n",
    "    - Introduction - set the overall picture and spike up the interest\n",
    "    - main part provides the meat of the analysis including the news summary and fear/greed scores\n",
    "    - summary - key facts and concrete future trend prediction - up, down and sideways.\n",
    "    \n",
    "    \"\"\",\n",
    "    agent= stockAnalystWrite,\n",
    "    context=[getStockPrice, get_news]\n",
    ")"
   ]
  },
  {
   "cell_type": "code",
   "execution_count": null,
   "metadata": {},
   "outputs": [],
   "source": [
    "crew = Crew(\n",
    "    agents = [stockPriceAnalyst, newsAnalyst, stockAnalystWrite],\n",
    "    tasks = [getStockPrice, get_news, writeAnalyses],\n",
    "    verbose = True,\n",
    "    process = Process.hierarchical,\n",
    "    full_output = True,\n",
    "    share_crew = False,\n",
    "    manager_llm = llm,\n",
    "    max_iter = 15\n",
    ")"
   ]
  },
  {
   "cell_type": "code",
   "execution_count": null,
   "metadata": {},
   "outputs": [],
   "source": [
    "results= crew.kickoff(inputs={'ticket': 'AAPL'})"
   ]
  }
 ],
 "metadata": {
  "kernelspec": {
   "display_name": "Python 3",
   "language": "python",
   "name": "python3"
  },
  "language_info": {
   "codemirror_mode": {
    "name": "ipython",
    "version": 3
   },
   "file_extension": ".py",
   "mimetype": "text/x-python",
   "name": "python",
   "nbconvert_exporter": "python",
   "pygments_lexer": "ipython3",
   "version": "3.12.3"
  }
 },
 "nbformat": 4,
 "nbformat_minor": 2
}
